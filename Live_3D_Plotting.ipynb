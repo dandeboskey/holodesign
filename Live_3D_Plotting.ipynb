{
 "cells": [
  {
   "cell_type": "code",
   "execution_count": 1,
   "id": "1e68550e",
   "metadata": {},
   "outputs": [],
   "source": [
    "import numpy as np\n",
    "import pandas as pd\n",
    "\n",
    "import matplotlib\n",
    "import matplotlib.pyplot as plt\n",
    "import seaborn as sns\n",
    "sns.set()\n",
    "plt.style.use('fivethirtyeight')\n",
    "\n",
    "import zipfile\n",
    "from pathlib import Path\n",
    "\n",
    "import os\n",
    "import re"
   ]
  },
  {
   "cell_type": "code",
   "execution_count": 2,
   "id": "f5918913",
   "metadata": {},
   "outputs": [],
   "source": [
    "import numpy as np\n",
    "import matplotlib.pyplot as plt\n",
    "from mpl_toolkits.mplot3d import Axes3D"
   ]
  },
  {
   "cell_type": "code",
   "execution_count": null,
   "id": "0c629fad",
   "metadata": {},
   "outputs": [],
   "source": []
  },
  {
   "cell_type": "code",
   "execution_count": 4,
   "id": "a8922052",
   "metadata": {},
   "outputs": [],
   "source": [
    "data = pd.DataFrame(pd.read_csv(\"generator.csv\"))"
   ]
  },
  {
   "cell_type": "code",
   "execution_count": 5,
   "id": "31895c49",
   "metadata": {},
   "outputs": [
    {
     "data": {
      "text/html": [
       "<div>\n",
       "<style scoped>\n",
       "    .dataframe tbody tr th:only-of-type {\n",
       "        vertical-align: middle;\n",
       "    }\n",
       "\n",
       "    .dataframe tbody tr th {\n",
       "        vertical-align: top;\n",
       "    }\n",
       "\n",
       "    .dataframe thead th {\n",
       "        text-align: right;\n",
       "    }\n",
       "</style>\n",
       "<table border=\"1\" class=\"dataframe\">\n",
       "  <thead>\n",
       "    <tr style=\"text-align: right;\">\n",
       "      <th></th>\n",
       "      <th>1</th>\n",
       "      <th>2</th>\n",
       "      <th>3</th>\n",
       "    </tr>\n",
       "  </thead>\n",
       "  <tbody>\n",
       "    <tr>\n",
       "      <th>0</th>\n",
       "      <td>1</td>\n",
       "      <td>2</td>\n",
       "      <td>3</td>\n",
       "    </tr>\n",
       "    <tr>\n",
       "      <th>1</th>\n",
       "      <td>1</td>\n",
       "      <td>2</td>\n",
       "      <td>3</td>\n",
       "    </tr>\n",
       "    <tr>\n",
       "      <th>2</th>\n",
       "      <td>1</td>\n",
       "      <td>1</td>\n",
       "      <td>1</td>\n",
       "    </tr>\n",
       "    <tr>\n",
       "      <th>3</th>\n",
       "      <td>2</td>\n",
       "      <td>2</td>\n",
       "      <td>2</td>\n",
       "    </tr>\n",
       "    <tr>\n",
       "      <th>4</th>\n",
       "      <td>3</td>\n",
       "      <td>3</td>\n",
       "      <td>3</td>\n",
       "    </tr>\n",
       "    <tr>\n",
       "      <th>...</th>\n",
       "      <td>...</td>\n",
       "      <td>...</td>\n",
       "      <td>...</td>\n",
       "    </tr>\n",
       "    <tr>\n",
       "      <th>56</th>\n",
       "      <td>55</td>\n",
       "      <td>55</td>\n",
       "      <td>55</td>\n",
       "    </tr>\n",
       "    <tr>\n",
       "      <th>57</th>\n",
       "      <td>56</td>\n",
       "      <td>56</td>\n",
       "      <td>56</td>\n",
       "    </tr>\n",
       "    <tr>\n",
       "      <th>58</th>\n",
       "      <td>57</td>\n",
       "      <td>57</td>\n",
       "      <td>57</td>\n",
       "    </tr>\n",
       "    <tr>\n",
       "      <th>59</th>\n",
       "      <td>58</td>\n",
       "      <td>58</td>\n",
       "      <td>58</td>\n",
       "    </tr>\n",
       "    <tr>\n",
       "      <th>60</th>\n",
       "      <td>59</td>\n",
       "      <td>59</td>\n",
       "      <td>59</td>\n",
       "    </tr>\n",
       "  </tbody>\n",
       "</table>\n",
       "<p>61 rows × 3 columns</p>\n",
       "</div>"
      ],
      "text/plain": [
       "     1   2   3\n",
       "0    1   2   3\n",
       "1    1   2   3\n",
       "2    1   1   1\n",
       "3    2   2   2\n",
       "4    3   3   3\n",
       "..  ..  ..  ..\n",
       "56  55  55  55\n",
       "57  56  56  56\n",
       "58  57  57  57\n",
       "59  58  58  58\n",
       "60  59  59  59\n",
       "\n",
       "[61 rows x 3 columns]"
      ]
     },
     "execution_count": 5,
     "metadata": {},
     "output_type": "execute_result"
    }
   ],
   "source": [
    "data"
   ]
  },
  {
   "cell_type": "code",
   "execution_count": 21,
   "id": "3eaeed15",
   "metadata": {},
   "outputs": [
    {
     "data": {
      "image/png": "[encoded data removed]",
      "text/plain": [
       "<Figure size 432x288 with 1 Axes>"
      ]
     },
     "metadata": {},
     "output_type": "display_data"
    },
    {
     "data": {
      "text/plain": [
       "<mpl_toolkits.mplot3d.art3d.Line3D at 0x7fd77b2f2280>"
      ]
     },
     "execution_count": 21,
     "metadata": {},
     "output_type": "execute_result"
    }
   ],
   "source": [
    "fig = plt.figure()\n",
    "ax = fig.add_subplot(111, projection='3d')\n",
    "ax.plot(1,1,1, linestyle=\"--\")\n",
    "ax.plot(2,2,2, linestyle=\"--\")\n",
    "ax.plot(2,2,10, linestyle=\"--\")\n",
    "plt.pause(0.5)\n",
    "ax.lines.pop()"
   ]
  },
  {
   "cell_type": "code",
   "execution_count": 14,
   "id": "6785f61b",
   "metadata": {},
   "outputs": [],
   "source": []
  },
  {
   "cell_type": "code",
   "execution_count": 32,
   "id": "3f8eca35",
   "metadata": {},
   "outputs": [],
   "source": [
    "from mpl_toolkits.mplot3d import Axes3D\n",
    "import random\n",
    "from itertools import count\n",
    "import time\n",
    "import matplotlib.pyplot as plt\n",
    "from matplotlib.animation import FuncAnimation\n",
    "from mpl_toolkits import mplot3d\n",
    "from matplotlib.patches import Circle, PathPatch\n",
    "from matplotlib.text import TextPath\n",
    "from matplotlib.transforms import Affine2D\n",
    "import mpl_toolkits.mplot3d.art3d as art3d\n",
    "\n",
    "plt.style.use('fivethirtyeight')\n",
    "\n",
    "x_values = []\n",
    "y_values = []\n",
    "z_values = []\n",
    "q_values = []\n",
    "w_values = []\n",
    "\n",
    "index = count()\n",
    "\n",
    "\n",
    "def animate(i):\n",
    "\n",
    "    x = next(index)\n",
    "    x_values.append(x)\n",
    "    y = random.randint(0, 5)\n",
    "    z = random.randint(3, 8)\n",
    "    q = random.randint(0, 10)\n",
    "    w = random.randint(0, 10)\n",
    "    y_values.append(y)\n",
    "    z_values.append(z)\n",
    "    q_values.append(q)\n",
    "    w_values.append(w)\n",
    "\n",
    "    ax.plot3D(x_values, y_values, z_values, 'blue',linestyle='--')\n",
    "    ax.plot3D(x_values, q_values, z_values, 'red',linestyle='--')\n",
    "    ax.plot3D(x_values, w_values, z_values, 'green',linestyle='--')\n",
    "          \n",
    "    time.sleep(.5)\n"
   ]
  },
  {
   "cell_type": "code",
   "execution_count": 36,
   "id": "7a8c5bef",
   "metadata": {},
   "outputs": [
    {
     "data": {
      "text/plain": [
       "<matplotlib.animation.FuncAnimation at 0x7fd768ed9220>"
      ]
     },
     "execution_count": 36,
     "metadata": {},
     "output_type": "execute_result"
    },
    {
     "data": {
      "image/png": "[encoded data removed]",
      "text/plain": [
       "<Figure size 432x288 with 1 Axes>"
      ]
     },
     "metadata": {},
     "output_type": "display_data"
    }
   ],
   "source": [
    "fig = plt.figure()\n",
    "ax = plt.axes(projection='3d')    \n",
    "FuncAnimation(plt.gcf(), animate, 1000)"
   ]
  },
  {
   "cell_type": "code",
   "execution_count": 38,
   "id": "bc57b9d7",
   "metadata": {},
   "outputs": [],
   "source": [
    "\n",
    "def animate(i):\n",
    "    \n",
    "    #print(counter)\n",
    "    \n",
    "\n",
    "    x = next(index) # counter or x variable -> index\n",
    "    counter = next(index)\n",
    "    print(counter)\n",
    "    x_values.append(x)\n",
    "    '''\n",
    "    Three random value series ->\n",
    "    Y : 0-5\n",
    "    Z : 3-8\n",
    "    Q : 0-10\n",
    "    '''\n",
    "    y = random.randint(0, 5)\n",
    "    z = random.randint(3, 8)\n",
    "    q = random.randint(0, 10)\n",
    "    # append values to keep graph dynamic\n",
    "    # this can be replaced with reading values from a csv files also\n",
    "    # or reading values from a pandas dataframe\n",
    "    y_values.append(y)\n",
    "    z_values.append(z)\n",
    "    q_values.append(q)\n",
    "    \n",
    "    \n",
    "    if counter >40:\n",
    "        '''\n",
    "        This helps in keeping the graph fresh and refreshes values after every 40 timesteps\n",
    "        '''\n",
    "        x_values.pop(0)\n",
    "        y_values.pop(0)\n",
    "        z_values.pop(0)\n",
    "        q_values.pop(0)\n",
    "        #counter = 0\n",
    "        plt.cla() # clears the values of the graph\n",
    "        \n",
    "    plt.plot(x_values, y_values,linestyle='--')\n",
    "    plt.plot(x_values, z_values,linestyle='--')\n",
    "    plt.plot(x_values, q_values,linestyle='--')\n",
    "    \n",
    "    ax.legend([\"Value 1 \",\"Value 2\",\"Value 3\"])\n",
    "    ax.set_xlabel(\"X values\")\n",
    "    ax.set_ylabel(\"Values for Three different variable\")\n",
    "    plt.title('Dynamic line graphs')\n",
    "    \n",
    "    time.sleep(.25) # keep refresh rate of 0.25 seconds"
   ]
  },
  {
   "cell_type": "code",
   "execution_count": 43,
   "id": "aad1ebad",
   "metadata": {},
   "outputs": [
    {
     "data": {
      "text/plain": [
       "<matplotlib.animation.FuncAnimation at 0x7fd7481b12b0>"
      ]
     },
     "execution_count": 43,
     "metadata": {},
     "output_type": "execute_result"
    },
    {
     "data": {
      "image/png": "[encoded data removed]",
      "text/plain": [
       "<Figure size 432x288 with 1 Axes>"
      ]
     },
     "metadata": {},
     "output_type": "display_data"
    }
   ],
   "source": [
    "fig, ax = plt.subplots()\n",
    "FuncAnimation(plt.gcf(), animate, 1000)"
   ]
  },
  {
   "cell_type": "code",
   "execution_count": null,
   "id": "75e80f6f",
   "metadata": {},
   "outputs": [],
   "source": []
  }
 ],
 "metadata": {
  "kernelspec": {
   "display_name": "Python 3",
   "language": "python",
   "name": "python3"
  },
  "language_info": {
   "codemirror_mode": {
    "name": "ipython",
    "version": 3
   },
   "file_extension": ".py",
   "mimetype": "text/x-python",
   "name": "python",
   "nbconvert_exporter": "python",
   "pygments_lexer": "ipython3",
   "version": "3.8.8"
  }
 },
 "nbformat": 4,
 "nbformat_minor": 5
}
